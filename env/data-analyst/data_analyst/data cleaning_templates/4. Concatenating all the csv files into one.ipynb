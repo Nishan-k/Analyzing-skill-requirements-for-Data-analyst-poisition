{
 "cells": [
  {
   "cell_type": "markdown",
   "id": "ba00efb9",
   "metadata": {},
   "source": [
    "## Importing the libraries"
   ]
  },
  {
   "cell_type": "code",
   "execution_count": 1,
   "id": "6d5cdf6f",
   "metadata": {},
   "outputs": [],
   "source": [
    "import pandas as pd\n",
    "import glob\n",
    "import os"
   ]
  },
  {
   "cell_type": "markdown",
   "id": "22727097",
   "metadata": {},
   "source": [
    "## Merging all the csv files into a single one:"
   ]
  },
  {
   "cell_type": "code",
   "execution_count": 7,
   "id": "12859e67",
   "metadata": {},
   "outputs": [],
   "source": [
    "files = [file for file in os.listdir('./clean-stage-1/requirements per state/all files')]"
   ]
  },
  {
   "cell_type": "code",
   "execution_count": 8,
   "id": "e7acb700",
   "metadata": {},
   "outputs": [
    {
     "name": "stdout",
     "output_type": "stream",
     "text": [
      "1.Baden-Württemberg_final.csv\n",
      "10.North Rhine-Westphalia_final.csv\n",
      "11.Rhineland-Palatinate_final.csv\n",
      "12.Saarland_final.csv\n",
      "13.Saxony_final.csv\n",
      "14.Saxony-Anhalt_final.csv\n",
      "15.Schleswig-Holstein_final.csv\n",
      "16.Thuringia_final.csv\n",
      "2.Bavaria_final.csv\n",
      "3.Berlin_final.csv\n",
      "4.Brandenburg_final.csv\n",
      "5.Bremen_final.csv\n",
      "6.Hamburg_final.csv\n",
      "7.Hesse_final.csv\n",
      "8.Lower Saxony_final.csv\n",
      "9.Mecklenburg-Vorpommern_final.csv\n"
     ]
    }
   ],
   "source": [
    "for file in files:\n",
    "    print(file)"
   ]
  },
  {
   "cell_type": "code",
   "execution_count": 12,
   "id": "d5fe3051",
   "metadata": {},
   "outputs": [
    {
     "data": {
      "text/plain": [
       "16"
      ]
     },
     "execution_count": 12,
     "metadata": {},
     "output_type": "execute_result"
    }
   ],
   "source": [
    "len(files)"
   ]
  },
  {
   "cell_type": "code",
   "execution_count": 13,
   "id": "6456479f",
   "metadata": {},
   "outputs": [],
   "source": [
    "all_states = pd.DataFrame()"
   ]
  },
  {
   "cell_type": "code",
   "execution_count": 15,
   "id": "43c5599c",
   "metadata": {},
   "outputs": [],
   "source": [
    "for file in files:\n",
    "    data = pd.read_csv('./clean-stage-1/requirements per state/all files/'+file)\n",
    "    all_states = pd.concat([all_states, data])"
   ]
  },
  {
   "cell_type": "code",
   "execution_count": 16,
   "id": "ff0ea2a6",
   "metadata": {},
   "outputs": [],
   "source": [
    "all_states.to_csv(\"All_state_data.csv\", index=False)"
   ]
  },
  {
   "cell_type": "markdown",
   "id": "22b8e0ee",
   "metadata": {},
   "source": [
    "## Reading the concatenated file:"
   ]
  },
  {
   "cell_type": "code",
   "execution_count": 19,
   "id": "494da342",
   "metadata": {},
   "outputs": [],
   "source": [
    "all_data = pd.read_csv(\"All_state_data.csv\")"
   ]
  },
  {
   "cell_type": "code",
   "execution_count": 22,
   "id": "ea135180",
   "metadata": {},
   "outputs": [
    {
     "data": {
      "text/html": [
       "<div>\n",
       "<style scoped>\n",
       "    .dataframe tbody tr th:only-of-type {\n",
       "        vertical-align: middle;\n",
       "    }\n",
       "\n",
       "    .dataframe tbody tr th {\n",
       "        vertical-align: top;\n",
       "    }\n",
       "\n",
       "    .dataframe thead th {\n",
       "        text-align: right;\n",
       "    }\n",
       "</style>\n",
       "<table border=\"1\" class=\"dataframe\">\n",
       "  <thead>\n",
       "    <tr style=\"text-align: right;\">\n",
       "      <th></th>\n",
       "      <th>Unnamed: 0</th>\n",
       "      <th>State ID</th>\n",
       "      <th>States</th>\n",
       "      <th>Programming Languages</th>\n",
       "      <th>Languages</th>\n",
       "      <th>Education</th>\n",
       "      <th>Visualizations</th>\n",
       "      <th>Packages and Libraries</th>\n",
       "      <th>Tools</th>\n",
       "    </tr>\n",
       "  </thead>\n",
       "  <tbody>\n",
       "    <tr>\n",
       "      <th>0</th>\n",
       "      <td>0</td>\n",
       "      <td>1</td>\n",
       "      <td>Baden-Württemberg</td>\n",
       "      <td>Python</td>\n",
       "      <td>English</td>\n",
       "      <td>Master</td>\n",
       "      <td>Tableau</td>\n",
       "      <td>NumPy</td>\n",
       "      <td>PowerPoint</td>\n",
       "    </tr>\n",
       "    <tr>\n",
       "      <th>1</th>\n",
       "      <td>1</td>\n",
       "      <td>1</td>\n",
       "      <td>Baden-Württemberg</td>\n",
       "      <td>Python</td>\n",
       "      <td>English</td>\n",
       "      <td>Master</td>\n",
       "      <td>Tableau</td>\n",
       "      <td>NumPy</td>\n",
       "      <td>PowerPoint</td>\n",
       "    </tr>\n",
       "    <tr>\n",
       "      <th>2</th>\n",
       "      <td>2</td>\n",
       "      <td>1</td>\n",
       "      <td>Baden-Württemberg</td>\n",
       "      <td>Python</td>\n",
       "      <td>English</td>\n",
       "      <td>Master</td>\n",
       "      <td>Tableau</td>\n",
       "      <td>Pandas</td>\n",
       "      <td>PowerPoint</td>\n",
       "    </tr>\n",
       "    <tr>\n",
       "      <th>3</th>\n",
       "      <td>3</td>\n",
       "      <td>1</td>\n",
       "      <td>Baden-Württemberg</td>\n",
       "      <td>Python</td>\n",
       "      <td>English</td>\n",
       "      <td>Master</td>\n",
       "      <td>Tableau</td>\n",
       "      <td>Pandas</td>\n",
       "      <td>PowerPoint</td>\n",
       "    </tr>\n",
       "    <tr>\n",
       "      <th>4</th>\n",
       "      <td>4</td>\n",
       "      <td>1</td>\n",
       "      <td>Baden-Württemberg</td>\n",
       "      <td>Python</td>\n",
       "      <td>English</td>\n",
       "      <td>Master</td>\n",
       "      <td>Tableau</td>\n",
       "      <td>Scikitlearn</td>\n",
       "      <td>PowerPoint</td>\n",
       "    </tr>\n",
       "  </tbody>\n",
       "</table>\n",
       "</div>"
      ],
      "text/plain": [
       "   Unnamed: 0  State ID             States Programming Languages Languages  \\\n",
       "0           0         1  Baden-Württemberg                Python   English   \n",
       "1           1         1  Baden-Württemberg                Python   English   \n",
       "2           2         1  Baden-Württemberg                Python   English   \n",
       "3           3         1  Baden-Württemberg                Python   English   \n",
       "4           4         1  Baden-Württemberg                Python   English   \n",
       "\n",
       "  Education Visualizations Packages and Libraries       Tools  \n",
       "0    Master        Tableau                  NumPy  PowerPoint  \n",
       "1    Master        Tableau                  NumPy  PowerPoint  \n",
       "2    Master        Tableau                 Pandas  PowerPoint  \n",
       "3    Master        Tableau                 Pandas  PowerPoint  \n",
       "4    Master        Tableau            Scikitlearn  PowerPoint  "
      ]
     },
     "execution_count": 22,
     "metadata": {},
     "output_type": "execute_result"
    }
   ],
   "source": [
    "all_data.head()"
   ]
  },
  {
   "cell_type": "code",
   "execution_count": null,
   "id": "da43d90c",
   "metadata": {},
   "outputs": [],
   "source": []
  }
 ],
 "metadata": {
  "kernelspec": {
   "display_name": "Python 3 (ipykernel)",
   "language": "python",
   "name": "python3"
  },
  "language_info": {
   "codemirror_mode": {
    "name": "ipython",
    "version": 3
   },
   "file_extension": ".py",
   "mimetype": "text/x-python",
   "name": "python",
   "nbconvert_exporter": "python",
   "pygments_lexer": "ipython3",
   "version": "3.9.12"
  }
 },
 "nbformat": 4,
 "nbformat_minor": 5
}
