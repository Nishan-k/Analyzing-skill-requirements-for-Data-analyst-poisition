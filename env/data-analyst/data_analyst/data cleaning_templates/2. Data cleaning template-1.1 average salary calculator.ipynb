{
 "cells": [
  {
   "cell_type": "markdown",
   "id": "072e2552",
   "metadata": {},
   "source": [
    "### Importing the libraries"
   ]
  },
  {
   "cell_type": "code",
   "execution_count": 113,
   "id": "3a6217eb",
   "metadata": {},
   "outputs": [],
   "source": [
    "import pandas as pd"
   ]
  },
  {
   "cell_type": "code",
   "execution_count": null,
   "id": "5204e52b",
   "metadata": {},
   "outputs": [],
   "source": []
  },
  {
   "cell_type": "code",
   "execution_count": 114,
   "id": "1ee5ff6e",
   "metadata": {},
   "outputs": [],
   "source": [
    "results = []\n",
    "def average_calculator(file, location):\n",
    "    df = pd.read_csv(file)\n",
    "    df = df[df['Salaries'] > 10000]\n",
    "    results.append((location, df.median()[0]))\n",
    "    return results"
   ]
  },
  {
   "cell_type": "code",
   "execution_count": null,
   "id": "47a6b2f4",
   "metadata": {},
   "outputs": [],
   "source": []
  },
  {
   "cell_type": "code",
   "execution_count": 115,
   "id": "a8c51d45",
   "metadata": {},
   "outputs": [],
   "source": [
    "files = [\n",
    "    average_calculator(file=\"clean-stage-1/1.2 Baden-Württemberg_salaries.csv\", location=\"Baden-Württemberg\"),\n",
    "     average_calculator(file=\"clean-stage-1/2.2 Bavaria_salaries.csv\", location=\"Bavaria\"),\n",
    "    average_calculator(file=\"clean-stage-1/3.2 Berlin_salaries.csv\", location=\"Berlin\"),\n",
    "   average_calculator(file=\"clean-stage-1/4.2 Brandenburg_salaries.csv\", location=\"Brandenburg\"),\n",
    "   average_calculator(file=\"clean-stage-1/5.2 Bremen_salaries.csv\", location=\"Bremen\"),\n",
    "    average_calculator(file=\"clean-stage-1/6.2 Hamburg_salaries.csv\", location=\"Hamburg\"),\n",
    "    average_calculator(file=\"clean-stage-1/7.2 Hesse_salaries.csv\", location=\"Hesse\"),\n",
    "    average_calculator(file=\"clean-stage-1/8.2 Lower Saxony_salaries.csv\", location=\"Lower Saxony\"),\n",
    "    average_calculator(file=\"clean-stage-1/9.2 Mecklenburg-Vorpommern_salaries.csv\", location=\"Mecklenburg-Vorpommern\"),\n",
    "     average_calculator(file=\"clean-stage-1/10.2 North Rhine-Westphalia_salaries.csv\", location=\"North Rhine-Westphalia\"),\n",
    "    average_calculator(file=\"clean-stage-1/11.2 Rhineland-Palatinate_salaries.csv\", location=\"Rhineland-Palatinate\"),\n",
    "    average_calculator(file=\"clean-stage-1/12.2 Saarland_salaries.csv\", location=\"Saarland\"),\n",
    "    average_calculator(file=\"clean-stage-1/13.2 Saxony_salaries.csv\", location=\"Saxony\"),\n",
    "    average_calculator(file=\"clean-stage-1/14.2 Saxony-Anhalt_salaries.csv\", location=\"Saxony-Anhalt\"),\n",
    "    average_calculator(file=\"clean-stage-1/15.2 Schleswig-Holstein_salaries.csv\", location=\"Schleswig-Holstein\"),\n",
    "    average_calculator(file=\"clean-stage-1/16.2 Thuringia_salaries.csv\", location=\"Thuringia\") \n",
    "]"
   ]
  },
  {
   "cell_type": "code",
   "execution_count": 116,
   "id": "2c323255",
   "metadata": {},
   "outputs": [],
   "source": [
    "for i in range(0, len(files)):\n",
    "    salaries = files[i]"
   ]
  },
  {
   "cell_type": "code",
   "execution_count": 117,
   "id": "5b144c9a",
   "metadata": {},
   "outputs": [
    {
     "data": {
      "text/plain": [
       "[('Baden-Württemberg', 65816.5),\n",
       " ('Bavaria', 70031.0),\n",
       " ('Berlin', 59193.0),\n",
       " ('Brandenburg', 49539.0),\n",
       " ('Bremen', 64607.0),\n",
       " ('Hamburg', 65329.0),\n",
       " ('Hesse', 61154.0),\n",
       " ('Lower Saxony', 56014.0),\n",
       " ('Mecklenburg-Vorpommern', 65846.0),\n",
       " ('North Rhine-Westphalia', 63220.0),\n",
       " ('Rhineland-Palatinate', 64607.0),\n",
       " ('Saarland', 64607.0),\n",
       " ('Saxony', 60470.0),\n",
       " ('Saxony-Anhalt', 64607.0),\n",
       " ('Schleswig-Holstein', 64607.0),\n",
       " ('Thuringia', 64607.0)]"
      ]
     },
     "execution_count": 117,
     "metadata": {},
     "output_type": "execute_result"
    }
   ],
   "source": [
    "salaries"
   ]
  },
  {
   "cell_type": "code",
   "execution_count": null,
   "id": "e590e0de",
   "metadata": {},
   "outputs": [],
   "source": []
  },
  {
   "cell_type": "code",
   "execution_count": 119,
   "id": "60752328",
   "metadata": {},
   "outputs": [],
   "source": [
    "df  = pd.DataFrame(salaries, columns=['State','Average Salary'])"
   ]
  },
  {
   "cell_type": "code",
   "execution_count": 121,
   "id": "3241f78a",
   "metadata": {},
   "outputs": [],
   "source": [
    "df.to_csv('final data/average_salary_per_states.csv')"
   ]
  },
  {
   "cell_type": "code",
   "execution_count": null,
   "id": "a5b79f21",
   "metadata": {},
   "outputs": [],
   "source": []
  },
  {
   "cell_type": "code",
   "execution_count": null,
   "id": "3e21ae83",
   "metadata": {},
   "outputs": [],
   "source": []
  },
  {
   "cell_type": "code",
   "execution_count": null,
   "id": "b009ce44",
   "metadata": {},
   "outputs": [],
   "source": []
  },
  {
   "cell_type": "code",
   "execution_count": null,
   "id": "85d6d5dd",
   "metadata": {},
   "outputs": [],
   "source": []
  },
  {
   "cell_type": "code",
   "execution_count": 85,
   "id": "b5b55bcd",
   "metadata": {},
   "outputs": [],
   "source": []
  },
  {
   "cell_type": "code",
   "execution_count": 86,
   "id": "2abf9b57",
   "metadata": {},
   "outputs": [],
   "source": []
  },
  {
   "cell_type": "code",
   "execution_count": 99,
   "id": "f0619fcf",
   "metadata": {},
   "outputs": [],
   "source": []
  },
  {
   "cell_type": "code",
   "execution_count": null,
   "id": "a9c3aa68",
   "metadata": {},
   "outputs": [],
   "source": []
  },
  {
   "cell_type": "code",
   "execution_count": 100,
   "id": "d044b6c4",
   "metadata": {},
   "outputs": [],
   "source": []
  },
  {
   "cell_type": "code",
   "execution_count": 101,
   "id": "45db186f",
   "metadata": {},
   "outputs": [],
   "source": []
  },
  {
   "cell_type": "code",
   "execution_count": 109,
   "id": "03763ccc",
   "metadata": {},
   "outputs": [],
   "source": []
  },
  {
   "cell_type": "code",
   "execution_count": 110,
   "id": "1ed04f56",
   "metadata": {},
   "outputs": [],
   "source": []
  },
  {
   "cell_type": "code",
   "execution_count": 111,
   "id": "fda324f6",
   "metadata": {},
   "outputs": [],
   "source": []
  },
  {
   "cell_type": "code",
   "execution_count": null,
   "id": "0de2cef6",
   "metadata": {},
   "outputs": [],
   "source": []
  },
  {
   "cell_type": "code",
   "execution_count": null,
   "id": "b44edea7",
   "metadata": {},
   "outputs": [],
   "source": []
  }
 ],
 "metadata": {
  "kernelspec": {
   "display_name": "Python 3 (ipykernel)",
   "language": "python",
   "name": "python3"
  },
  "language_info": {
   "codemirror_mode": {
    "name": "ipython",
    "version": 3
   },
   "file_extension": ".py",
   "mimetype": "text/x-python",
   "name": "python",
   "nbconvert_exporter": "python",
   "pygments_lexer": "ipython3",
   "version": "3.7.13"
  }
 },
 "nbformat": 4,
 "nbformat_minor": 5
}
